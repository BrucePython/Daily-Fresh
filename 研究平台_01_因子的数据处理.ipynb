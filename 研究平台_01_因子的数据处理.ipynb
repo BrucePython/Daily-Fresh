{
 "cells": [
  {
   "cell_type": "code",
   "execution_count": null,
   "metadata": {},
   "outputs": [],
   "source": [
    "from scipy.stats.mstats import winsorize\n",
    "import pandas as pd\n",
    "import numpy as np\n",
    "from sklearn.preprocessing import StandardScaler\n",
    "from sklearn.linear_model import LinearRegression\n",
    "\n",
    "\n",
    "# 获取指标数据，相当于回测平台的history_bar\n",
    "get_price(\"000001.XSHE\", start_date=\"2017-01-01\",end_date=\"2017-01-04\")\n",
    "\n",
    "\n",
    "# 指定获取收盘价数据\n",
    "get_price(['000024.XSHE', '000001.XSHE', '000002.XSHE'], start_date=\"2015-04-01\",end_date=\"2015-04-12\",fields=\"close\")\n",
    "# 若不指定指标，则是panel结构\n",
    "\n",
    "\n",
    "# 获取交易日列表\n",
    "# 返回datetime.date list - 交易日期列表(除去周末、节假日)\n",
    "get_trading_dates(start_date=\"2017-01-01\",end_date=\"2018-01-01\")\n",
    "\n",
    "\n",
    "# 获取财务数据\n",
    "q = query(fundamentals.income_statement.revenue, \n",
    "          fundamentals.income_statement.cost_of_goods_sold\n",
    "         )\n",
    "# 必须指定日期\n",
    "fund = get_fundamentals(q,entry_date=\"2017-01-03\")    # 3维度数据，格式为panel；[itmes, major, minor]对应[指标，时间，股票]\n",
    "\n",
    "# 面板数据 转 截面数据，panel 转 DataFrame\n",
    "print(type(fund[:,0,:]))    # DataFrame\n",
    "fund[:,0,:]    # 列=指标名，行=股票名\n"
   ]
  },
  {
   "cell_type": "markdown",
   "metadata": {},
   "source": [
    "## 数据处理：去极值，标准化，市值中性化处理："
   ]
  },
  {
   "cell_type": "code",
   "execution_count": null,
   "metadata": {},
   "outputs": [],
   "source": [
    "fund = get_fundamentals(query(fundamentals.eod_derivative_indicator.pe_ratio), entry_date=\"20180102\")[:,0,:]"
   ]
  },
  {
   "cell_type": "markdown",
   "metadata": {},
   "source": [
    "### 1. 去极值"
   ]
  },
  {
   "cell_type": "code",
   "execution_count": null,
   "metadata": {},
   "outputs": [],
   "source": [
    "# 将左右两端2.5%的数据拉回到四分位点的位置，并新增一列【指标】到fund\n",
    "fund[\"pe_ratio_winsorize\"] = winsorize(fund[\"pe_ratio\"],limits=0.025)\n",
    "\n",
    "\n",
    "# 画图对比: 取500个数据演示\n",
    "fund[\"pe_ratio\"][:500].plot()\n",
    "fund[\"pe_ratio_winsorize\"][:500].plot()\n",
    "\n",
    "\n",
    "# 分位数去极值，与winsorize功能一样\n",
    "def percentile(factor,up,down): \n",
    "    \"\"\"自实现分位数去极值，up与down都是percentile\"\"\"\n",
    "    up_scale = np.percentile(factor, up)   \n",
    "    down_scale = np.percentile(factor, down)   \n",
    "    factor = np.where(factor > up_scale, up_scale, factor)   \n",
    "    factor = np.where(factor < down_scale, down_scale, factor)  \n",
    "    return factor\n",
    "\n",
    "\n",
    "percentile(fund[\"pe_ratio\"], 97.5, 2.5)\n",
    "\n",
    "\n",
    "# 中位数去极值\n",
    "def mad(factor):\n",
    "    \"\"\"自实现3倍中位数绝对值偏差去极值\"\"\"\n",
    "    # 1、找出因子的中位数 median\n",
    "    median_factor = np.median(factor)\n",
    "    \n",
    "    # 2、得到每个因子值与中位数的绝对偏差值 |x – median|\n",
    "    # 3、得到绝对偏差值的中位数， MAD = median(|x – median|)\n",
    "    mad = np.median(abs(factor-median_factor))\n",
    "    \n",
    "    # 4、计算MAD_e = 1.4826*MAD，然后确定参数 n，做出调整\n",
    "    # 定义3倍中位数的上下限制\n",
    "    high = median_factor + (3 * 1.4826 * mad)    # 上限\n",
    "    low = median_factor - (3 * 1.4826 * mad)     # 下限\n",
    "    \n",
    "    # 利用3倍中位数的值去极值\n",
    "    factor = np.where(factor > high, high, factor)    # 如果参数大于极值，则把参数换成极值，否则还是参数\n",
    "    factor = np.where(factor < low, low, factor)      # 如果参数小于极值，则把参数换成极值，否则还是参数\n",
    "    return factor\n",
    "\n",
    "\n",
    "# 对pe-ratio进行3倍中位数去极值\n",
    "fund[\"pe_ratio_3mad\"] = mad(fund[\"pe_ratio\"])\n",
    "\n",
    "fund[\"pe_ratio\"][:500].plot()\n",
    "fund[\"pe_ratio_3mad\"][:500].plot()\n",
    "\n",
    "\n",
    "# 3sigma去极值\n",
    "def three_sigma(factor):\n",
    "    \"\"\"自定义3倍标准差方法去极值\"\"\"\n",
    "    # 计算平均值和标准差\n",
    "    mean = factor.mean()\n",
    "    std_dev = factor.std()\n",
    "    \n",
    "    # 计算上下限数据，左右的数据加减3个标准差\n",
    "    high = mean + (3 * std_dev)\n",
    "    low = mean - (3 * std_dev)\n",
    "\n",
    "    # 替换极值数据\n",
    "    factor = np.where(factor > high, high, factor)\n",
    "    factor = np.where(factor < low, low, factor)\n",
    "    return factor\n",
    "\n",
    "\n",
    "# 对fund[\"pe_ratio\"] 去极值\n",
    "fund[\"pe_ratio_3sigma\"] = three_sigma(fund[\"pe_ratio\"])\n",
    "\n",
    "fund['pe_ratio'][:500].plot()\n",
    "fund['pe_ratio_3sigma'][:500].plot()"
   ]
  },
  {
   "cell_type": "markdown",
   "metadata": {},
   "source": [
    "## 2. 标准化处理"
   ]
  },
  {
   "cell_type": "code",
   "execution_count": null,
   "metadata": {},
   "outputs": [],
   "source": [
    "std = StandardScaler()\n",
    "# 先去掉none，再标准化\n",
    "test1 = std.fit_transform(fund[\"pe_ratio_3mad\"].dropna())    # numpy.ndarray\n",
    "\n",
    "\n",
    "def stand(factor):\n",
    "    \"\"\"自实现标准化，相当于StandScaler\"\"\"\n",
    "    mean = factor.mean()\n",
    "    std_dev = factor.std()\n",
    "    return (factor-mean)/std_dev\n",
    "\n",
    "\n",
    "fund[\"pe_ratio_stand\"] = stand(fund[\"pe_ratio_3mad\"])    # pandas.core.series.Series"
   ]
  },
  {
   "cell_type": "markdown",
   "metadata": {},
   "source": [
    "## 3. 市值中性化处理"
   ]
  },
  {
   "cell_type": "code",
   "execution_count": null,
   "metadata": {},
   "outputs": [],
   "source": [
    "# 1. 获取数据\n",
    "q = query(fundamentals.eod_derivative_indicator.pb_ratio,\n",
    "         fundamentals.eod_derivative_indicator.market_cap)\n",
    "fund = get_fundamentals(q, entry_date=\"2018-01-03\")[:,0,:]\n",
    "\n",
    "# 2. 对因子数据进行处理，去极值（3倍中位数），中心化（stand）\n",
    "fund[\"pb_ratio\"] = stand(mad(fund[\"pb_ratio\"]))\n",
    "fund[\"market_cap\"] = stand(mad(fund[\"market_cap\"]))    # 可以不用处理数据\n",
    "\n",
    "# 3. 市值中性化，确定回归方程的特征值（市值因子）和目标值（市净率因子）\n",
    "# 传入训练的特征值是二维形状\n",
    "x = fund[\"market_cap\"].reshape(-1,1)    # 通过reshape转化成2维形状；类型：从pandas.core.series.Series变成numpy.ndarray\n",
    "y = fund[\"pb_ratio\"]    # 1维形状，类型：numpy.ndarray\n",
    "\n",
    "# 4. 利用线性回归进行预测\n",
    "lr = LinearRegression()\n",
    "lr.fit(x,y)\n",
    "\n",
    "# 5. 得出每个市值因子的预测值，\n",
    "y_predict = lr.predict(x)\n",
    "# 市净率因子的真实值 - 预测值（市值因子的y） = 误差，误差就是中心化处理后的结果\n",
    "fund[\"pb_ratio\"] = y - y_predict\n",
    "\n",
    "# 取出（行）股票名\n",
    "# fund[\"pb_ratio\"].index"
   ]
  }
 ],
 "metadata": {
  "kernelspec": {
   "display_name": "Python 3",
   "language": "python",
   "name": "python3"
  },
  "language_info": {
   "codemirror_mode": {
    "name": "ipython",
    "version": 3
   },
   "file_extension": ".py",
   "mimetype": "text/x-python",
   "name": "python",
   "nbconvert_exporter": "python",
   "pygments_lexer": "ipython3",
   "version": "3.6.4"
  }
 },
 "nbformat": 4,
 "nbformat_minor": 2
}
